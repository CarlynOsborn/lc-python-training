{
 "cells": [
  {
   "cell_type": "markdown",
   "metadata": {},
   "source": [
    "# Python \n",
    "\n",
    "There is an infamous document, [PEP 8](https://www.python.org/dev/peps/pep-0008/) that lays out some guidelines for how to style your code. You should read it, but here are some highlights:\n",
    "\n",
    "* Use 4-space indentation, and no tabs.\n",
    "    * 4 spaces are a good compromise between small indentation (allows greater nesting depth) and large indentation (easier to read). Tabs introduce confusion, and are best left out.\n",
    "* Wrap lines so that they don’t exceed 79 characters.\n",
    "    * This helps users with small displays and makes it possible to have several code files side-by-side on larger displays.\n",
    "* Use blank lines to separate functions and classes, and larger blocks of code inside functions.\n",
    "* When possible, put comments on a line of their own.\n",
    "* Use docstrings.\n",
    "* Use spaces around operators and after commas, but not directly inside bracketing constructs: a = f(1, 2) + g(3, 4).\n",
    "* Name your functions consistently; the convention is to use lower_case_with_underscores for functions and methods. \n",
    "* Don’t use fancy encodings if your code is meant to be used in international environments. Python’s default, UTF-8, or even plain ASCII work best in any case.\n",
    "* Likewise, don’t use non-ASCII characters in identifiers if there is only the slightest chance people speaking a different language will read or maintain the code."
   ]
  },
  {
   "cell_type": "markdown",
   "metadata": {},
   "source": [
    "## String Methods\n",
    "\n",
    "* Strings have a bunch of *methods* that can be used to manipulate the text contents of the string\n",
    "* See the [Python documentation](https://docs.python.org/3.5/library/stdtypes.html#string-methods) for a full list of string methods"
   ]
  },
  {
   "cell_type": "code",
   "execution_count": null,
   "metadata": {},
   "outputs": [],
   "source": [
    "# use the lowercase method on a string literal\n",
    "\"The Batman\".lower()"
   ]
  },
  {
   "cell_type": "code",
   "execution_count": null,
   "metadata": {},
   "outputs": [],
   "source": [
    "# Put a string in a variable\n",
    "superhero = \"The Batman\"\n",
    "\n",
    "superhero.upper()"
   ]
  },
  {
   "cell_type": "markdown",
   "metadata": {},
   "source": [
    "* The `split` method is very handy"
   ]
  },
  {
   "cell_type": "code",
   "execution_count": null,
   "metadata": {},
   "outputs": [],
   "source": [
    "# Make a longer string a split it\n",
    "superhero = \"The Batman bit the frog; he died of poison\"\n",
    "superhero.split()"
   ]
  },
  {
   "cell_type": "code",
   "execution_count": null,
   "metadata": {},
   "outputs": [],
   "source": [
    "# Split on a semicolon instead of a space\n",
    "superhero.split(\";\")"
   ]
  },
  {
   "cell_type": "code",
   "execution_count": null,
   "metadata": {},
   "outputs": [],
   "source": [
    "# Check to see if the string contains a number\n",
    "\"50000\".isdigit()"
   ]
  },
  {
   "cell_type": "code",
   "execution_count": null,
   "metadata": {},
   "outputs": [],
   "source": [
    "# Doesn't work for money\n",
    "\"$50000\".isdigit()"
   ]
  },
  {
   "cell_type": "markdown",
   "metadata": {},
   "source": [
    "* String formatting is a *super* useful way to programmatically create strings\n",
    "* This is a very powerful system, so definitely [check out the documentation](https://docs.python.org/3.5/library/string.html#formatstrings)"
   ]
  },
  {
   "cell_type": "code",
   "execution_count": null,
   "metadata": {},
   "outputs": [],
   "source": [
    "# create a string template\n",
    "template_string = \"My name is {}\""
   ]
  },
  {
   "cell_type": "code",
   "execution_count": null,
   "metadata": {},
   "outputs": [],
   "source": [
    "name = \"Dr. Strange\"\n",
    "template_string.format(name)"
   ]
  },
  {
   "cell_type": "code",
   "execution_count": null,
   "metadata": {},
   "outputs": [],
   "source": [
    "template_string = \"Oh we are using made up names. Hello, {you}! My name is {me}\"\n",
    "my_name = \"Spiderman\""
   ]
  },
  {
   "cell_type": "code",
   "execution_count": null,
   "metadata": {},
   "outputs": [],
   "source": [
    "template_string.format(me=my_name, you=name)"
   ]
  },
  {
   "cell_type": "markdown",
   "metadata": {},
   "source": [
    "* Use triple quotes to make strings with newlines"
   ]
  },
  {
   "cell_type": "code",
   "execution_count": null,
   "metadata": {},
   "outputs": [],
   "source": [
    "# Make a Frosty string and split on the lines\n",
    "multiline_example = \"\"\"Nature’s first green is gold,\n",
    "Her hardest hue to hold.\n",
    "Her early leaf’s a flower;\n",
    "But only so an hour.\n",
    "Then leaf subsides to leaf,\n",
    "So Eden sank to grief,\n",
    "So dawn goes down to day\n",
    "Nothing gold can stay.\"\"\"\n",
    "\n",
    "multiline_example.splitlines()"
   ]
  },
  {
   "cell_type": "markdown",
   "metadata": {},
   "source": [
    "* What if we wanted to split the lines and then split the words"
   ]
  },
  {
   "cell_type": "code",
   "execution_count": null,
   "metadata": {},
   "outputs": [],
   "source": [
    "multiline_example.splitlines().split()"
   ]
  },
  {
   "cell_type": "markdown",
   "metadata": {},
   "source": [
    "---"
   ]
  },
  {
   "cell_type": "markdown",
   "metadata": {},
   "source": [
    "## List Comprehensions\n",
    "\n",
    "* [List comprehensions](https://docs.python.org/3.5/tutorial/datastructures.html#list-comprehensions) provide a concise way to create lists.\n",
    "* If you find yourself creating lists by performing operations in a `for` loop, a list comprehension is a more *pythonic* way to do this\n",
    "* For example, squaring all the values in a list"
   ]
  },
  {
   "cell_type": "code",
   "execution_count": null,
   "metadata": {},
   "outputs": [],
   "source": [
    "# Create a list of squares\n",
    "# Code from Python documentation\n",
    "squares = []\n",
    "for x in range(10):\n",
    "    squares.append(x**2)\n",
    "\n",
    "squares"
   ]
  },
  {
   "cell_type": "markdown",
   "metadata": {},
   "source": [
    "* Here is the same problem solved with a list comprehension"
   ]
  },
  {
   "cell_type": "code",
   "execution_count": null,
   "metadata": {},
   "outputs": [],
   "source": [
    "squares = [x**2 for x in range(10)]\n",
    "squares"
   ]
  },
  {
   "cell_type": "markdown",
   "metadata": {},
   "source": [
    "* If you find yourself creating an empty list, looping, and appending to that list then you might consider a list comprehension\n",
    "* A list comprehension consists of brackets containing an expression followed by a `for` clause, then zero or more `for` or `if` clauses. "
   ]
  },
  {
   "cell_type": "code",
   "execution_count": null,
   "metadata": {},
   "outputs": [],
   "source": [
    "[(x, y) for x in [\"Bruce\",\"Tony\",\"The\"] for y in [\"Wayne\", \"Stark\",\"Joker\"] if x != y]"
   ]
  },
  {
   "cell_type": "markdown",
   "metadata": {},
   "source": [
    "* This is equivalent to "
   ]
  },
  {
   "cell_type": "code",
   "execution_count": null,
   "metadata": {},
   "outputs": [],
   "source": [
    "# combine these to lists\n",
    "combinations = []\n",
    "for x in [\"Bruce\",\"Tony\",\"The\"]:\n",
    "    for y in [\"Wayne\", \"Stark\",\"Joker\"]:\n",
    "        if x != y:\n",
    "            combinations.append((x, y))\n",
    "\n",
    "combinations"
   ]
  },
  {
   "cell_type": "markdown",
   "metadata": {},
   "source": [
    "* You can call functions in list comprehensions to do more powerful processing"
   ]
  },
  {
   "cell_type": "code",
   "execution_count": null,
   "metadata": {},
   "outputs": [],
   "source": [
    "list_of_strings = ['Bruce WAYNE', \"  The JOKER\", \"   ThAnOS   \"]\n",
    "\n",
    "def clean_string(to_clean):\n",
    "    return to_clean.strip().lower()\n",
    "\n",
    "cleaned = [clean_string(x) for x in list_of_strings]\n",
    "cleaned"
   ]
  },
  {
   "cell_type": "markdown",
   "metadata": {},
   "source": [
    "* And this works with string methods, so now we can split the frost poem"
   ]
  },
  {
   "cell_type": "code",
   "execution_count": null,
   "metadata": {},
   "outputs": [],
   "source": [
    "# Make a Frosty string and split on the lines\n",
    "multiline_example = \"\"\"Nature’s first green is gold,\n",
    "Her hardest hue to hold.\n",
    "Her early leaf’s a flower;\n",
    "But only so an hour.\n",
    "Then leaf subsides to leaf,\n",
    "So Eden sank to grief,\n",
    "So dawn goes down to day\n",
    "Nothing gold can stay.\"\"\"\n",
    "\n",
    "tokenized = [line.split() for line in multiline_example.splitlines()]\n",
    "tokenized"
   ]
  },
  {
   "cell_type": "markdown",
   "metadata": {},
   "source": [
    "* You can also do dictionary comprehensions"
   ]
  },
  {
   "cell_type": "code",
   "execution_count": null,
   "metadata": {},
   "outputs": [],
   "source": [
    "# Create a dictionary of squares from a list of numbers\n",
    "square_loopup = {x: x**2 for x in [2, 4, 6]}\n",
    "print(square_loopup[2])\n",
    "square_loopup"
   ]
  },
  {
   "cell_type": "markdown",
   "metadata": {},
   "source": [
    "---"
   ]
  },
  {
   "cell_type": "markdown",
   "metadata": {},
   "source": [
    "## Traversing the Filesystem\n",
    "\n",
    "* [Pathlib](https://docs.python.org/3/library/pathlib.html) is a new addition to the Python standard library, it provides some very handy features for working with files and moving around the filesystem\n",
    "    * Real Python has [a nice introduction to Pathlib](https://realpython.com/python-pathlib/)\n",
    "* Instead of strings, Pathlib makes path and file objects and provides methods for interacting with those objects\n",
    "* What is nice about Pathlib is that it is Operating System agnostic, which means code will work on Windows, Mac, or Linux.\n",
    "    * Windows breaks hardcoded file paths\n",
    "* I recommend using `pathlib` over `os`, `glob`, and `shutil`"
   ]
  },
  {
   "cell_type": "code",
   "execution_count": null,
   "metadata": {},
   "outputs": [],
   "source": [
    "# import the Path object from pathlib\n",
    "from pathlib import Path\n"
   ]
  },
  {
   "cell_type": "code",
   "execution_count": null,
   "metadata": {},
   "outputs": [],
   "source": [
    "# get the current working directory\n",
    "Path.cwd()"
   ]
  },
  {
   "cell_type": "code",
   "execution_count": null,
   "metadata": {},
   "outputs": [],
   "source": [
    "# Get the parent directory\n",
    "Path.cwd().parent"
   ]
  },
  {
   "cell_type": "code",
   "execution_count": null,
   "metadata": {},
   "outputs": [],
   "source": [
    "# Make a path to the extra pandas content\n",
    "# save to a variable so we can reuse it\n",
    "extra_content_path = Path.cwd().parent.joinpath(\"day-two\",\"extra-pandas\")\n",
    "extra_content_path"
   ]
  },
  {
   "cell_type": "code",
   "execution_count": null,
   "metadata": {},
   "outputs": [],
   "source": [
    "# iterdir gives us a generator \n",
    "# so we have to iterate to see the contents\n",
    "for file in extra_content_path.iterdir():\n",
    "    # print the path\n",
    "    print(file)"
   ]
  },
  {
   "cell_type": "markdown",
   "metadata": {},
   "source": [
    "* See how `pathlib` replaces `os.path` it can also function like the `glob` module as well\n",
    "* What if we just wanted to see the csv files in the extra pandas content directory?"
   ]
  },
  {
   "cell_type": "code",
   "execution_count": null,
   "metadata": {},
   "outputs": [],
   "source": [
    "for file in extra_content_path.glob(\"*.csv\"):\n",
    "    print(file)"
   ]
  },
  {
   "cell_type": "markdown",
   "metadata": {},
   "source": [
    "* We can also get additional information about those files"
   ]
  },
  {
   "cell_type": "code",
   "execution_count": null,
   "metadata": {},
   "outputs": [],
   "source": [
    "# loop over the csv files in the dir\n",
    "for file in extra_content_path.glob(\"*.csv\"):\n",
    "    print(\"Full Path:\", file)\n",
    "    print(\"File Name:\", file.name)\n",
    "    print(\"File Stem:\", file.stem)\n",
    "    print(\"File Suffix:\", file.suffix)\n",
    "    print()\n",
    "    "
   ]
  },
  {
   "cell_type": "markdown",
   "metadata": {},
   "source": [
    "* Pathlib also replaces shutil \n",
    "* Has some nice methods for working with directories & files"
   ]
  },
  {
   "cell_type": "code",
   "execution_count": null,
   "metadata": {},
   "outputs": [],
   "source": [
    "# Check to see if the test directory exists\n",
    "Path('test').exists()"
   ]
  },
  {
   "cell_type": "code",
   "execution_count": null,
   "metadata": {},
   "outputs": [],
   "source": [
    "# Create the test directory\n",
    "Path('test').mkdir()"
   ]
  },
  {
   "cell_type": "code",
   "execution_count": null,
   "metadata": {},
   "outputs": [],
   "source": [
    "# Check to see if the test directory exists\n",
    "Path('test').exists()"
   ]
  },
  {
   "cell_type": "code",
   "execution_count": null,
   "metadata": {},
   "outputs": [],
   "source": [
    "# create a path to a markdown file\n",
    "test_file = Path('test').joinpath('test.md')"
   ]
  },
  {
   "cell_type": "code",
   "execution_count": null,
   "metadata": {},
   "outputs": [],
   "source": [
    "# check to see if the file exists\n",
    "test_file.exists()"
   ]
  },
  {
   "cell_type": "markdown",
   "metadata": {},
   "source": [
    "* What we have is a *path* to a file, but the file needs to be created\n",
    "* Pathlib provides some *very handy* methods for quickly reading and writing text (or bytes) to a file"
   ]
  },
  {
   "cell_type": "code",
   "execution_count": null,
   "metadata": {},
   "outputs": [],
   "source": [
    "# Some text for the file\n",
    "text = \"\"\"# This is a test file\n",
    "\n",
    "Written in markdown.\"\"\"\n",
    "\n",
    "# Use the write_text method to spit the text to disk\n",
    "test_file.write_text(text)"
   ]
  },
  {
   "cell_type": "code",
   "execution_count": null,
   "metadata": {},
   "outputs": [],
   "source": [
    "# Read the text contents of the file\n",
    "test_file.read_text()"
   ]
  },
  {
   "cell_type": "markdown",
   "metadata": {},
   "source": [
    "* Now that we are done with these files we can remove them"
   ]
  },
  {
   "cell_type": "code",
   "execution_count": null,
   "metadata": {},
   "outputs": [],
   "source": [
    "# Delete the test file\n",
    "test_file.unlink()"
   ]
  },
  {
   "cell_type": "code",
   "execution_count": null,
   "metadata": {},
   "outputs": [],
   "source": [
    "# Check to see if it exists\n",
    "test_file.exists()"
   ]
  },
  {
   "cell_type": "markdown",
   "metadata": {},
   "source": [
    "* This is just a quick overview of a very powerful new module in Python 3.4\n",
    "* Be sure to [read the documentation](https://docs.python.org/3/library/pathlib.html) for more information"
   ]
  },
  {
   "cell_type": "markdown",
   "metadata": {},
   "source": [
    "---"
   ]
  },
  {
   "cell_type": "markdown",
   "metadata": {},
   "source": [
    "## Working With CSV Files\n",
    "\n",
    "* CSV files are used to store a large number of variables – or data. They are incredibly simplified spreadsheets – think Excel – only the content is stored in plaintext.\n",
    "* Python has a CSV parser as part of the standard library\n",
    "* To parse CSV files, we use the `csv` module.\n",
    "* The csv module provides a number of built-in functions to make it easier to parse and iterate through CSV files.\n",
    " "
   ]
  },
  {
   "cell_type": "code",
   "execution_count": null,
   "metadata": {},
   "outputs": [],
   "source": [
    "#  load the CSV module \n",
    "import csv"
   ]
  },
  {
   "cell_type": "markdown",
   "metadata": {},
   "source": [
    "* Now we need to tell Python to open a connection to `diabetes.csv` and diabetes_file handler should be processed as a CSV file. \n",
    "*  We do that by calling on the `reader()` function of the csv module"
   ]
  },
  {
   "cell_type": "code",
   "execution_count": null,
   "metadata": {},
   "outputs": [],
   "source": [
    "# open the diabetes file\n",
    "with open(\"diabetes.csv\", 'r') as diabetes_file:\n",
    "    # Create a CSV reader \n",
    "    diabetes_data = csv.reader(diabetes_file)"
   ]
  },
  {
   "cell_type": "markdown",
   "metadata": {},
   "source": [
    "* At this point, the entire CSV file is treated as a table - a collection of rows and columns\n",
    "* We can iterate (loop) through this table and get access to each individual row, just like the line-by-line above\n",
    "* But CSV module automatically splits it all into different values!"
   ]
  },
  {
   "cell_type": "code",
   "execution_count": null,
   "metadata": {},
   "outputs": [],
   "source": [
    "# open the diabetes file\n",
    "with open(\"diabetes.csv\", 'r') as diabetes_file:\n",
    "    # Create a CSV reader \n",
    "    diabetes_data = csv.reader(diabetes_file)\n",
    "    \n",
    "    # loop over the file and print the row contents \n",
    "    for row in diabetes_data:\n",
    "        print(row)\n",
    "    "
   ]
  },
  {
   "cell_type": "markdown",
   "metadata": {},
   "source": [
    "* You probably noticed that the row variable is just a list - it is a list of values contained in each column.\n",
    "* You can access individual columns exactly the same way you would access values in a list.\n",
    "* For example, the value of cholesterol is in a column called 'chol', which is a second column and therefore has the index of 1"
   ]
  },
  {
   "cell_type": "code",
   "execution_count": null,
   "metadata": {
    "scrolled": false
   },
   "outputs": [],
   "source": [
    "# open the diabetes file\n",
    "with open(\"diabetes.csv\", 'r') as diabetes_file:\n",
    "    # Create a CSV reader \n",
    "    diabetes_data = csv.reader(diabetes_file)\n",
    "    \n",
    "    # loop over the file and print the row contents \n",
    "    for row in diabetes_data:\n",
    "        print(row[1]) # print only the values for the chol column"
   ]
  },
  {
   "cell_type": "markdown",
   "metadata": {},
   "source": [
    "* You probably also noticed that the first row does not contain data - it's just the column headers\n",
    "* In order for us to do any mathematical or statistical operations on the data, we need to EXCLUDE the header\n",
    "* We have to skip the header row. We can do this with the `next()` function to separate the header rows"
   ]
  },
  {
   "cell_type": "code",
   "execution_count": null,
   "metadata": {},
   "outputs": [],
   "source": [
    "# open the diabetes file\n",
    "with open(\"diabetes.csv\", 'r') as diabetes_file:\n",
    "    # Create a CSV reader \n",
    "    diabetes_data = csv.reader(diabetes_file)\n",
    "\n",
    "    # use next to skip the header row\n",
    "    headers = next(diabetes_file)\n",
    "    print(headers)\n",
    "\n",
    "    # loop over the remaining lines file \n",
    "    for row in diabetes_data:\n",
    "        print(row[1]) # print only the values for the chol column\n"
   ]
  }
 ],
 "metadata": {
  "kernelspec": {
   "display_name": "Python 3",
   "language": "python",
   "name": "python3"
  },
  "language_info": {
   "codemirror_mode": {
    "name": "ipython",
    "version": 3
   },
   "file_extension": ".py",
   "mimetype": "text/x-python",
   "name": "python",
   "nbconvert_exporter": "python",
   "pygments_lexer": "ipython3",
   "version": "3.7.3"
  }
 },
 "nbformat": 4,
 "nbformat_minor": 2
}
