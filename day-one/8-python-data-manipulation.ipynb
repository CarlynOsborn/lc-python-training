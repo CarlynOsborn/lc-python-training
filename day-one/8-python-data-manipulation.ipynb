{
 "cells": [
  {
   "cell_type": "markdown",
   "metadata": {},
   "source": [
    "# Python \n",
    "\n",
    "There is an infamous document, [PEP 8](https://www.python.org/dev/peps/pep-0008/) that lays out some guidelines for how to style your code. You should read it, but here are some highlights:\n",
    "\n",
    "* Use 4-space indentation, and no tabs.\n",
    "    * 4 spaces are a good compromise between small indentation (allows greater nesting depth) and large indentation (easier to read). Tabs introduce confusion, and are best left out.\n",
    "* Wrap lines so that they don’t exceed 79 characters.\n",
    "    * This helps users with small displays and makes it possible to have several code files side-by-side on larger displays.\n",
    "* Use blank lines to separate functions and classes, and larger blocks of code inside functions.\n",
    "* When possible, put comments on a line of their own.\n",
    "* Use docstrings.\n",
    "* Use spaces around operators and after commas, but not directly inside bracketing constructs: a = f(1, 2) + g(3, 4).\n",
    "* Name your functions consistently; the convention is to use lower_case_with_underscores for functions and methods. \n",
    "* Don’t use fancy encodings if your code is meant to be used in international environments. Python’s default, UTF-8, or even plain ASCII work best in any case.\n",
    "* Likewise, don’t use non-ASCII characters in identifiers if there is only the slightest chance people speaking a different language will read or maintain the code."
   ]
  },
  {
   "cell_type": "markdown",
   "metadata": {},
   "source": [
    "## String Methods\n",
    "\n",
    "* Strings have a bunch of *methods* that can be used to manipulate the text contents of the string\n",
    "* See the [Python documentation](https://docs.python.org/3.5/library/stdtypes.html#string-methods) for a full list of string methods"
   ]
  },
  {
   "cell_type": "code",
   "execution_count": 3,
   "metadata": {},
   "outputs": [
    {
     "data": {
      "text/plain": [
       "'the batman'"
      ]
     },
     "execution_count": 3,
     "metadata": {},
     "output_type": "execute_result"
    }
   ],
   "source": [
    "# use the lowercase method on a string literal\n",
    "\"The Batman\".lower()"
   ]
  },
  {
   "cell_type": "code",
   "execution_count": 11,
   "metadata": {},
   "outputs": [
    {
     "data": {
      "text/plain": [
       "'THE BATMAN'"
      ]
     },
     "execution_count": 11,
     "metadata": {},
     "output_type": "execute_result"
    }
   ],
   "source": [
    "# Put a string in a variable\n",
    "superhero = \"The Batman\"\n",
    "\n",
    "superhero.upper()"
   ]
  },
  {
   "cell_type": "markdown",
   "metadata": {},
   "source": [
    "* The `split` method is very handy"
   ]
  },
  {
   "cell_type": "code",
   "execution_count": 14,
   "metadata": {},
   "outputs": [
    {
     "data": {
      "text/plain": [
       "['The', 'Batman', 'bit', 'the', 'frog;', 'he', 'died', 'of', 'poison']"
      ]
     },
     "execution_count": 14,
     "metadata": {},
     "output_type": "execute_result"
    }
   ],
   "source": [
    "# Make a longer string a split it\n",
    "superhero = \"The Batman bit the frog; he died of poison\"\n",
    "superhero.split()"
   ]
  },
  {
   "cell_type": "code",
   "execution_count": 15,
   "metadata": {},
   "outputs": [
    {
     "data": {
      "text/plain": [
       "['The Batman bit the frog', ' he died of poison']"
      ]
     },
     "execution_count": 15,
     "metadata": {},
     "output_type": "execute_result"
    }
   ],
   "source": [
    "# Split on a semicolon instead of a space\n",
    "superhero.split(\";\")"
   ]
  },
  {
   "cell_type": "code",
   "execution_count": 16,
   "metadata": {},
   "outputs": [
    {
     "data": {
      "text/plain": [
       "True"
      ]
     },
     "execution_count": 16,
     "metadata": {},
     "output_type": "execute_result"
    }
   ],
   "source": [
    "# Check to see if the string contains a number\n",
    "\"50000\".isdigit()"
   ]
  },
  {
   "cell_type": "code",
   "execution_count": 18,
   "metadata": {},
   "outputs": [
    {
     "data": {
      "text/plain": [
       "False"
      ]
     },
     "execution_count": 18,
     "metadata": {},
     "output_type": "execute_result"
    }
   ],
   "source": [
    "# Doesn't work for money\n",
    "\"$50000\".isdigit()"
   ]
  },
  {
   "cell_type": "markdown",
   "metadata": {},
   "source": [
    "* String formatting is a *super* useful way to programmatically create strings\n",
    "* This is a very powerful system, so definitely [check out the documentation](https://docs.python.org/3.5/library/string.html#formatstrings)"
   ]
  },
  {
   "cell_type": "code",
   "execution_count": 27,
   "metadata": {},
   "outputs": [],
   "source": [
    "# create a string template\n",
    "template_string = \"My name is {}\""
   ]
  },
  {
   "cell_type": "code",
   "execution_count": 28,
   "metadata": {},
   "outputs": [
    {
     "data": {
      "text/plain": [
       "'My name is Dr. Strange'"
      ]
     },
     "execution_count": 28,
     "metadata": {},
     "output_type": "execute_result"
    }
   ],
   "source": [
    "name = \"Dr. Strange\"\n",
    "template_string.format(name)"
   ]
  },
  {
   "cell_type": "code",
   "execution_count": 30,
   "metadata": {},
   "outputs": [],
   "source": [
    "template_string = \"Oh we are using made up names. Hello, {you}! My name is {me}\"\n",
    "my_name = \"Spiderman\""
   ]
  },
  {
   "cell_type": "code",
   "execution_count": 31,
   "metadata": {},
   "outputs": [
    {
     "data": {
      "text/plain": [
       "'Oh we are using made up names. Hello, Dr. Strange! My name is Spiderman'"
      ]
     },
     "execution_count": 31,
     "metadata": {},
     "output_type": "execute_result"
    }
   ],
   "source": [
    "template_string.format(me=my_name, you=name)"
   ]
  },
  {
   "cell_type": "markdown",
   "metadata": {},
   "source": [
    "* Use triple quotes to make strings with newlines"
   ]
  },
  {
   "cell_type": "code",
   "execution_count": 19,
   "metadata": {},
   "outputs": [
    {
     "data": {
      "text/plain": [
       "['Nature’s first green is gold,',\n",
       " 'Her hardest hue to hold.',\n",
       " 'Her early leaf’s a flower;',\n",
       " 'But only so an hour.',\n",
       " 'Then leaf subsides to leaf,',\n",
       " 'So Eden sank to grief,',\n",
       " 'So dawn goes down to day',\n",
       " 'Nothing gold can stay.']"
      ]
     },
     "execution_count": 19,
     "metadata": {},
     "output_type": "execute_result"
    }
   ],
   "source": [
    "# Make a Frosty string and split on the lines\n",
    "multiline_example = \"\"\"Nature’s first green is gold,\n",
    "Her hardest hue to hold.\n",
    "Her early leaf’s a flower;\n",
    "But only so an hour.\n",
    "Then leaf subsides to leaf,\n",
    "So Eden sank to grief,\n",
    "So dawn goes down to day\n",
    "Nothing gold can stay.\"\"\"\n",
    "\n",
    "multiline_example.splitlines()"
   ]
  },
  {
   "cell_type": "markdown",
   "metadata": {},
   "source": [
    "* What if we wanted to split the lines and then split the words"
   ]
  },
  {
   "cell_type": "code",
   "execution_count": 20,
   "metadata": {},
   "outputs": [
    {
     "ename": "AttributeError",
     "evalue": "'list' object has no attribute 'split'",
     "output_type": "error",
     "traceback": [
      "\u001b[0;31m---------------------------------------------------------------------------\u001b[0m",
      "\u001b[0;31mAttributeError\u001b[0m                            Traceback (most recent call last)",
      "\u001b[0;32m<ipython-input-20-8c86865f2491>\u001b[0m in \u001b[0;36m<module>\u001b[0;34m()\u001b[0m\n\u001b[0;32m----> 1\u001b[0;31m \u001b[0mmultiline_example\u001b[0m\u001b[0;34m.\u001b[0m\u001b[0msplitlines\u001b[0m\u001b[0;34m(\u001b[0m\u001b[0;34m)\u001b[0m\u001b[0;34m.\u001b[0m\u001b[0msplit\u001b[0m\u001b[0;34m(\u001b[0m\u001b[0;34m)\u001b[0m\u001b[0;34m\u001b[0m\u001b[0;34m\u001b[0m\u001b[0m\n\u001b[0m",
      "\u001b[0;31mAttributeError\u001b[0m: 'list' object has no attribute 'split'"
     ]
    }
   ],
   "source": [
    "multiline_example.splitlines().split()"
   ]
  },
  {
   "cell_type": "markdown",
   "metadata": {},
   "source": [
    "---"
   ]
  },
  {
   "cell_type": "markdown",
   "metadata": {},
   "source": [
    "## List Comprehensions\n",
    "\n",
    "* [List comprehensions](https://docs.python.org/3.5/tutorial/datastructures.html#list-comprehensions) provide a concise way to create lists.\n",
    "* If you find yourself creating lists by performing operations in a `for` loop, a list comprehension is a more *pythonic* way to do this\n",
    "* For example, squaring all the values in a list"
   ]
  },
  {
   "cell_type": "code",
   "execution_count": 1,
   "metadata": {},
   "outputs": [
    {
     "data": {
      "text/plain": [
       "[0, 1, 4, 9, 16, 25, 36, 49, 64, 81]"
      ]
     },
     "execution_count": 1,
     "metadata": {},
     "output_type": "execute_result"
    }
   ],
   "source": [
    "# Create a list of squares\n",
    "# Code from Python documentation\n",
    "squares = []\n",
    "for x in range(10):\n",
    "    squares.append(x**2)\n",
    "\n",
    "squares"
   ]
  },
  {
   "cell_type": "markdown",
   "metadata": {},
   "source": [
    "* Here is the same problem solved with a list comprehension"
   ]
  },
  {
   "cell_type": "code",
   "execution_count": 2,
   "metadata": {},
   "outputs": [
    {
     "data": {
      "text/plain": [
       "[0, 1, 4, 9, 16, 25, 36, 49, 64, 81]"
      ]
     },
     "execution_count": 2,
     "metadata": {},
     "output_type": "execute_result"
    }
   ],
   "source": [
    "squares = [x**2 for x in range(10)]\n",
    "squares"
   ]
  },
  {
   "cell_type": "markdown",
   "metadata": {},
   "source": [
    "* If you find yourself creating an empty list, looping, and appending to that list then you might consider a list comprehension\n",
    "* A list comprehension consists of brackets containing an expression followed by a `for` clause, then zero or more `for` or `if` clauses. "
   ]
  },
  {
   "cell_type": "code",
   "execution_count": 7,
   "metadata": {},
   "outputs": [
    {
     "data": {
      "text/plain": [
       "[('Bruce', 'Wayne'),\n",
       " ('Bruce', 'Stark'),\n",
       " ('Bruce', 'Joker'),\n",
       " ('Tony', 'Wayne'),\n",
       " ('Tony', 'Stark'),\n",
       " ('Tony', 'Joker'),\n",
       " ('The', 'Wayne'),\n",
       " ('The', 'Stark'),\n",
       " ('The', 'Joker')]"
      ]
     },
     "execution_count": 7,
     "metadata": {},
     "output_type": "execute_result"
    }
   ],
   "source": [
    "[(x, y) for x in [\"Bruce\",\"Tony\",\"The\"] for y in [\"Wayne\", \"Stark\",\"Joker\"] if x != y]"
   ]
  },
  {
   "cell_type": "markdown",
   "metadata": {},
   "source": [
    "* This is equivalent to "
   ]
  },
  {
   "cell_type": "code",
   "execution_count": 8,
   "metadata": {},
   "outputs": [
    {
     "data": {
      "text/plain": [
       "[('Bruce', 'Wayne'),\n",
       " ('Bruce', 'Stark'),\n",
       " ('Bruce', 'Joker'),\n",
       " ('Tony', 'Wayne'),\n",
       " ('Tony', 'Stark'),\n",
       " ('Tony', 'Joker'),\n",
       " ('The', 'Wayne'),\n",
       " ('The', 'Stark'),\n",
       " ('The', 'Joker')]"
      ]
     },
     "execution_count": 8,
     "metadata": {},
     "output_type": "execute_result"
    }
   ],
   "source": [
    "# combine these to lists\n",
    "combs = []\n",
    "for x in [\"Bruce\",\"Tony\",\"The\"]:\n",
    "    for y in [\"Wayne\", \"Stark\",\"Joker\"]:\n",
    "        if x != y:\n",
    "            combs.append((x, y))\n",
    "\n",
    "combs"
   ]
  },
  {
   "cell_type": "markdown",
   "metadata": {},
   "source": [
    "* You can call functions in list comprehensions to do more powerful processing"
   ]
  },
  {
   "cell_type": "code",
   "execution_count": 12,
   "metadata": {},
   "outputs": [
    {
     "data": {
      "text/plain": [
       "['bruce wayne', 'the joker', 'thanos']"
      ]
     },
     "execution_count": 12,
     "metadata": {},
     "output_type": "execute_result"
    }
   ],
   "source": [
    "list_of_strings = ['Bruce WAYNE', \"  The JOKER\", \"   ThAnOS   \"]\n",
    "\n",
    "def clean_string(to_clean):\n",
    "    return to_clean.strip().lower()\n",
    "\n",
    "cleaned = [clean_string(x) for x in list_of_strings]\n",
    "cleaned"
   ]
  },
  {
   "cell_type": "markdown",
   "metadata": {},
   "source": [
    "* And this works with string methods, so now we can split the frost poem"
   ]
  },
  {
   "cell_type": "code",
   "execution_count": 21,
   "metadata": {},
   "outputs": [
    {
     "data": {
      "text/plain": [
       "[['Nature’s', 'first', 'green', 'is', 'gold,'],\n",
       " ['Her', 'hardest', 'hue', 'to', 'hold.'],\n",
       " ['Her', 'early', 'leaf’s', 'a', 'flower;'],\n",
       " ['But', 'only', 'so', 'an', 'hour.'],\n",
       " ['Then', 'leaf', 'subsides', 'to', 'leaf,'],\n",
       " ['So', 'Eden', 'sank', 'to', 'grief,'],\n",
       " ['So', 'dawn', 'goes', 'down', 'to', 'day'],\n",
       " ['Nothing', 'gold', 'can', 'stay.']]"
      ]
     },
     "execution_count": 21,
     "metadata": {},
     "output_type": "execute_result"
    }
   ],
   "source": [
    "# Make a Frosty string and split on the lines\n",
    "multiline_example = \"\"\"Nature’s first green is gold,\n",
    "Her hardest hue to hold.\n",
    "Her early leaf’s a flower;\n",
    "But only so an hour.\n",
    "Then leaf subsides to leaf,\n",
    "So Eden sank to grief,\n",
    "So dawn goes down to day\n",
    "Nothing gold can stay.\"\"\"\n",
    "\n",
    "tokenized = [line.split() for line in multiline_example.splitlines()]\n",
    "tokenized"
   ]
  },
  {
   "cell_type": "markdown",
   "metadata": {},
   "source": [
    "* You can also do dictionary comprehensions"
   ]
  },
  {
   "cell_type": "code",
   "execution_count": 16,
   "metadata": {},
   "outputs": [
    {
     "name": "stdout",
     "output_type": "stream",
     "text": [
      "4\n"
     ]
    },
    {
     "data": {
      "text/plain": [
       "{2: 4, 4: 16, 6: 36}"
      ]
     },
     "execution_count": 16,
     "metadata": {},
     "output_type": "execute_result"
    }
   ],
   "source": [
    "# Create a dictionary of squares from a list of numbers\n",
    "square_loopup = {x: x**2 for x in [2, 4, 6]}\n",
    "print(square_loopup[2])\n",
    "square_loopup"
   ]
  },
  {
   "cell_type": "markdown",
   "metadata": {},
   "source": [
    "## Working with Modules\n",
    "\n",
    "* Python's [standard library](https://docs.python.org/3/library/) is very comprehensive \n",
    "    * Interact with your operating system with `os`\n",
    "    * Work with emails using `email`\n",
    "    * Run a web server with `http.server`\n",
    "* Use this also to import 3rd-party libraries\n",
    "* To import modules use the `import` command, this will load the module into memory\n",
    "    * Use the syntax `import <module name> as <arbitrary name>` to use a different name"
   ]
  },
  {
   "cell_type": "code",
   "execution_count": 35,
   "metadata": {},
   "outputs": [],
   "source": [
    "import datetime"
   ]
  },
  {
   "cell_type": "code",
   "execution_count": null,
   "metadata": {},
   "outputs": [],
   "source": []
  },
  {
   "cell_type": "code",
   "execution_count": null,
   "metadata": {},
   "outputs": [],
   "source": []
  },
  {
   "cell_type": "code",
   "execution_count": null,
   "metadata": {},
   "outputs": [],
   "source": []
  },
  {
   "cell_type": "code",
   "execution_count": null,
   "metadata": {},
   "outputs": [],
   "source": []
  },
  {
   "cell_type": "code",
   "execution_count": 33,
   "metadata": {},
   "outputs": [],
   "source": [
    "import pathlib"
   ]
  },
  {
   "cell_type": "code",
   "execution_count": null,
   "metadata": {},
   "outputs": [],
   "source": [
    "# Put the cursor next to the period and hit tab\n",
    "pathlib."
   ]
  },
  {
   "cell_type": "code",
   "execution_count": null,
   "metadata": {},
   "outputs": [],
   "source": [
    "# The Path object is most useful"
   ]
  },
  {
   "cell_type": "code",
   "execution_count": 34,
   "metadata": {},
   "outputs": [
    {
     "data": {
      "text/plain": [
       "PosixPath('.')"
      ]
     },
     "execution_count": 34,
     "metadata": {},
     "output_type": "execute_result"
    }
   ],
   "source": [
    "pathlib.Path(\".\")"
   ]
  },
  {
   "cell_type": "code",
   "execution_count": null,
   "metadata": {},
   "outputs": [],
   "source": []
  },
  {
   "cell_type": "code",
   "execution_count": null,
   "metadata": {},
   "outputs": [],
   "source": []
  },
  {
   "cell_type": "markdown",
   "metadata": {},
   "source": [
    "---"
   ]
  },
  {
   "cell_type": "markdown",
   "metadata": {},
   "source": [
    "## Traversing the Filesystem\n",
    "\n",
    "* Pathlib"
   ]
  },
  {
   "cell_type": "markdown",
   "metadata": {},
   "source": [
    "---"
   ]
  },
  {
   "cell_type": "markdown",
   "metadata": {},
   "source": [
    "## Working With CSV Files\n",
    "\n",
    "* CSV files are used to store a large number of variables – or data. They are incredibly simplified spreadsheets – think Excel – only the content is stored in plaintext.\n",
    "* Python has a CSV parser as part of the standard library\n",
    "* To parse CSV files, we use the `csv` module.\n",
    "* The csv module provides a number of built-in functions to make it easier to parse and iterate through CSV files.\n",
    " "
   ]
  },
  {
   "cell_type": "code",
   "execution_count": null,
   "metadata": {},
   "outputs": [],
   "source": [
    "#  load the CSV module \n",
    "import csv"
   ]
  },
  {
   "cell_type": "markdown",
   "metadata": {},
   "source": [
    "* Now we need to tell Python to open a connection to `diabetes.csv` and diabetes_file handler should be processed as a CSV file. \n",
    "*  We do that by calling on the `reader()` function of the csv module"
   ]
  },
  {
   "cell_type": "code",
   "execution_count": null,
   "metadata": {},
   "outputs": [],
   "source": [
    "# open the diabetes file\n",
    "with open(\"diabetes.csv\", 'r') as diabetes_file:\n",
    "    # Create a CSV reader \n",
    "    diabetes_data = csv.reader(diabetes_file)"
   ]
  },
  {
   "cell_type": "markdown",
   "metadata": {},
   "source": [
    "* At this point, the entire CSV file is treated as a table - a collection of rows and columns\n",
    "* We can iterate (loop) through this table and get access to each individual row, just like the line-by-line above\n",
    "* But CSV module automatically splits it all into different values!"
   ]
  },
  {
   "cell_type": "code",
   "execution_count": null,
   "metadata": {},
   "outputs": [],
   "source": [
    "# open the diabetes file\n",
    "with open(\"diabetes.csv\", 'r') as diabetes_file:\n",
    "    # Create a CSV reader \n",
    "    diabetes_data = csv.reader(diabetes_file)\n",
    "    \n",
    "    # loop over the file and print the row contents \n",
    "    for row in diabetes_data:\n",
    "        print(row)\n",
    "    "
   ]
  },
  {
   "cell_type": "markdown",
   "metadata": {},
   "source": [
    "* You probably noticed that the row variable is just a list - it is a list of values contained in each column.\n",
    "* You can access individual columns exactly the same way you would access values in a list.\n",
    "* For example, the value of cholesterol is in a column called 'chol', which is a second column and therefore has the index of 1"
   ]
  },
  {
   "cell_type": "code",
   "execution_count": null,
   "metadata": {
    "scrolled": false
   },
   "outputs": [],
   "source": [
    "# open the diabetes file\n",
    "with open(\"diabetes.csv\", 'r') as diabetes_file:\n",
    "    # Create a CSV reader \n",
    "    diabetes_data = csv.reader(diabetes_file)\n",
    "    \n",
    "    # loop over the file and print the row contents \n",
    "    for row in diabetes_data:\n",
    "        print(row[1]) # print only the values for the chol column"
   ]
  },
  {
   "cell_type": "markdown",
   "metadata": {},
   "source": [
    "* You probably also noticed that the first row does not contain data - it's just the column headers\n",
    "* In order for us to do any mathematical or statistical operations on the data, we need to EXCLUDE the header\n",
    "* We have to skip the header row. We can do this with the `next()` function to separate the header rows"
   ]
  },
  {
   "cell_type": "code",
   "execution_count": null,
   "metadata": {},
   "outputs": [],
   "source": [
    "# open the diabetes file\n",
    "with open(\"diabetes.csv\", 'r') as diabetes_file:\n",
    "    # Create a CSV reader \n",
    "    diabetes_data = csv.reader(diabetes_file)\n",
    "\n",
    "    # use next to skip the header row\n",
    "    headers = next(diabetes_file)\n",
    "    print(headers)\n",
    "\n",
    "    # loop over the remaining lines file \n",
    "    for row in diabetes_data:\n",
    "        print(row[1]) # print only the values for the chol column\n"
   ]
  }
 ],
 "metadata": {
  "kernelspec": {
   "display_name": "Python 3",
   "language": "python",
   "name": "python3"
  },
  "language_info": {
   "codemirror_mode": {
    "name": "ipython",
    "version": 3
   },
   "file_extension": ".py",
   "mimetype": "text/x-python",
   "name": "python",
   "nbconvert_exporter": "python",
   "pygments_lexer": "ipython3",
   "version": "3.7.3"
  }
 },
 "nbformat": 4,
 "nbformat_minor": 2
}
