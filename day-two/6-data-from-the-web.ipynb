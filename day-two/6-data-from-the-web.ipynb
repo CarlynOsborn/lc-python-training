{
 "cells": [
  {
   "cell_type": "markdown",
   "metadata": {},
   "source": [
    "# Fetching data from the web\n",
    "\n",
    "- [About the loc.gov JSON API](https://libraryofcongress.github.io/data-exploration/)\n",
    "\n",
    "\n",
    "-  collection\n"
   ]
  },
  {
   "cell_type": "code",
   "execution_count": 24,
   "metadata": {},
   "outputs": [],
   "source": [
    "from time import sleep"
   ]
  },
  {
   "cell_type": "markdown",
   "metadata": {},
   "source": [
    "* What we want to do is programmatically download the information from a particular collection\n",
    "* We are interested in the [Selected Digitized Books](https://www.loc.gov/collections/selected-digitized-books/) collection\n",
    "* When we visit the link we can see the HTML representation of that collection\n",
    "\n",
    "* What we want to do is access this information using Python and manipulate it\n",
    "* The first step is to retrieve a representation that is easier for the computer to work with\n",
    "    * While we could parse the HTML, this would be a lot of effort (save this for another workshop)\n",
    "* Fortunately the LC provides convientient API for obtaining a more *computationally tractable* representation of the pages\n",
    "    * In JSON\n",
    "    "
   ]
  },
  {
   "cell_type": "markdown",
   "metadata": {},
   "source": [
    "---"
   ]
  },
  {
   "cell_type": "markdown",
   "metadata": {},
   "source": [
    "## Retriving Data from the Web\n",
    "\n",
    "* We don't always have to download data to our local machines before loading it into Python\n",
    "* If the data are openly available on the web we can retrieve them programmatically\n",
    "    * We can even log into systems with access control, but that is a more complicated topic\n",
    "* Getting remote data requires the use of *web protocols* to \n"
   ]
  },
  {
   "cell_type": "markdown",
   "metadata": {},
   "source": [
    "### What is HTTP\n",
    "\n",
    "* HTTP is the *HyperText Transfer Protocol* and is the lingua franca of the web\n",
    " > HTTP is a protocol which allows the fetching of resources, such as HTML documents. It is the foundation of any data exchange on the Web and a client-server protocol, which means requests are initiated by the recipient, usually the Web browser. A complete document is reconstructed from the different sub-documents fetched, for instance text, layout description, images, videos, scripts, and more. - [MDN Web Docs](https://developer.mozilla.org/en-US/docs/Web/HTTP/Overview)"
   ]
  },
  {
   "cell_type": "markdown",
   "metadata": {},
   "source": [
    "![HTTP Flow](images/http-flow.png)"
   ]
  },
  {
   "cell_type": "markdown",
   "metadata": {},
   "source": [
    "### Elements of HTTP\n",
    "\n",
    "* Request Methods - Verbs\n",
    "    * GET - Requests a representation of a specific resource. Retrieve only.\n",
    "    * POST - Submit an entity to a specified resource, often causing a change in state on the server.\n",
    "    * PUT - Replace the current representation of the specified resource with the request payload.\n",
    "    * DELETE - Remove the specified resource from the server.\n",
    "    * HEAD - Same as GET, but without the response body.\n",
    "* User Agent - Information about the application making the request\n",
    "* Headers - Metadata about the request\n",
    "* Body - Data sent or received\n"
   ]
  },
  {
   "cell_type": "markdown",
   "metadata": {},
   "source": [
    "### HTTP Status Codes\n",
    "\n",
    "* HTTP has five categories of status code\n",
    "    * 1xx: informational – used for development\n",
    "    * 2xx: Successful response\n",
    "    * 3xx: Redirection\n",
    "    * 4xx: Client Error\n",
    "    * 5xx: Server Error\n",
    "* Frequently used codes:\n",
    "    * 200 - success\n",
    "    * 301 and 302 - Moved permanently or temporarily\n",
    "    * 400 - bad request\n",
    "    * 401 - unauthorized\n",
    "    * 403 - forbidden\n",
    "    * 404 - not found\n"
   ]
  },
  {
   "cell_type": "markdown",
   "metadata": {},
   "source": [
    "### HTTP Request & Response\n",
    "\n",
    "![HTTP Request and Response](images/http-request-response.png)"
   ]
  },
  {
   "cell_type": "markdown",
   "metadata": {},
   "source": [
    "## Working with HTTP in Python\n",
    "\n",
    "* Because Python has the *batteries included* there is an [http client module](https://docs.python.org/3/library/http.client.html) as part of the standard library\n",
    "    * It is fine in a pinch, but there is a better 3rd party library\n",
    "* The [Requests](https://2.python-requests.org/en/master/) library by [Kenneth Reitz](https://www.kennethreitz.org/)\n",
    "    * It is *HTTP for humans*\n",
    "* Requests is the most popular library for fetching data from the web\n",
    "* It is very powerful, but we will only touch on a little bit of it today."
   ]
  },
  {
   "cell_type": "code",
   "execution_count": 14,
   "metadata": {},
   "outputs": [],
   "source": [
    "# load the requests library\n",
    "import requests"
   ]
  },
  {
   "cell_type": "code",
   "execution_count": 15,
   "metadata": {},
   "outputs": [],
   "source": [
    "# put the address of the page we want to load into a variable\n",
    "URL = \"http://loc.gov\"\n",
    "\n",
    "# make an HTTP GET request to the specified URL\n",
    "# Save the response in a variable\n",
    "response = requests.get(URL)\n"
   ]
  },
  {
   "cell_type": "code",
   "execution_count": 16,
   "metadata": {},
   "outputs": [
    {
     "data": {
      "text/plain": [
       "200"
      ]
     },
     "execution_count": 16,
     "metadata": {},
     "output_type": "execute_result"
    }
   ],
   "source": [
    "# Inspect the response status code\n",
    "response.status_code"
   ]
  },
  {
   "cell_type": "markdown",
   "metadata": {},
   "source": [
    "* This means tour HTTP request was successful \n",
    "* Requests makes it easy to inspect various bits of information related to our HTTP transaction"
   ]
  },
  {
   "cell_type": "code",
   "execution_count": 17,
   "metadata": {},
   "outputs": [
    {
     "data": {
      "text/plain": [
       "{'Date': 'Fri, 17 May 2019 20:36:20 GMT', 'Content-Type': 'text/html; charset=UTF-8', 'Transfer-Encoding': 'chunked', 'Connection': 'keep-alive', 'X-Frame-Options': 'allow-from https://unitedstateslibraryofcongress.marketing.adobe.com', 'Expires': 'Fri, 17 May 2019 17:53:13 GMT', 'Cache-Control': 'no-transform, max-age=3600', 'Age': '0', 'Expect-CT': 'max-age=604800, report-uri=\"https://report-uri.cloudflare.com/cdn-cgi/beacon/expect-ct\"', 'Server': 'cloudflare', 'CF-RAY': '4d886205dd1fa409-PIT', 'Content-Encoding': 'gzip'}"
      ]
     },
     "execution_count": 17,
     "metadata": {},
     "output_type": "execute_result"
    }
   ],
   "source": [
    "# Display the HTTP headers we got from the server\n",
    "response.headers"
   ]
  },
  {
   "cell_type": "code",
   "execution_count": 30,
   "metadata": {},
   "outputs": [
    {
     "data": {
      "text/plain": [
       "'text/html; charset=UTF-8'"
      ]
     },
     "execution_count": 30,
     "metadata": {},
     "output_type": "execute_result"
    }
   ],
   "source": [
    "# Look at the content type of the resource we got back from the server\n",
    "response.headers['Content-Type']"
   ]
  },
  {
   "cell_type": "markdown",
   "metadata": {},
   "source": [
    "* This means we got an HTML document back from loc.gov\n",
    "* You can access the response body in the `response.text` or `response.content` fields\n",
    "    * Be careful, They can be really long!"
   ]
  },
  {
   "cell_type": "code",
   "execution_count": 28,
   "metadata": {},
   "outputs": [
    {
     "data": {
      "text/plain": [
       "'<!DOCTYPE html>\\n\\n\\n<html lang=\"en\" class=\"no-js\" prefix=\"lc: http://loc.gov/#\">\\n<head>\\n\\n<meta name=\"description\"\\n      content=\"The Library of Congress is the nation\\'s oldest federal cultural institution, and it serves as the research arm of Congress. It is also the largest library in the world, with more than 162 million items. The collections include books, sound recordings, motion pictures, photographs, maps, and manuscripts.\" />\\n\\n<meta name=\"dc.identifier\"\\n      content=\"http://www.loc.gov/\" />\\n\\n<meta rel=\"canonical\"\\n      href=\"http://loc.gov/\" />\\n\\n    \\n<meta charset=\"utf-8\">\\n<meta name=\"viewport\" content=\"width=device-width,initial-scale=1\"/>\\n<meta http-equiv=\"X-UA-Compatible\" content=\"IE=edge\">\\n<meta name=\"version\" content=\"$Revision: 81937 $\"/>\\n<meta name=\"msvalidate.01\" content=\"5C89FB9D99590AB2F55BD95C3A59BD81\"/>\\n<link title=\"schema(DC)\" rel=\"schema.dc\" href=\"http://purl.org/dc/elements/1.1/\"/>\\n<meta name=\"dc.language\" content=\"eng\" />\\n<meta name=\"dc.source\" content=\"Library o'"
      ]
     },
     "execution_count": 28,
     "metadata": {},
     "output_type": "execute_result"
    }
   ],
   "source": [
    "# display the first 5000 characters of the response string\n",
    "response.text[0:1000]"
   ]
  },
  {
   "cell_type": "code",
   "execution_count": 29,
   "metadata": {},
   "outputs": [
    {
     "name": "stdout",
     "output_type": "stream",
     "text": [
      "<!DOCTYPE html>\n",
      "\n",
      "\n",
      "<html lang=\"en\" class=\"no-js\" prefix=\"lc: http://loc.gov/#\">\n",
      "<head>\n",
      "\n",
      "<meta name=\"description\"\n",
      "      content=\"The Library of Congress is the nation's oldest federal cultural institution, and it serves as the research arm of Congress. It is also the largest library in the world, with more than 162 million items. The collections include books, sound recordings, motion pictures, photographs, maps, and manuscripts.\" />\n",
      "\n",
      "<meta name=\"dc.identifier\"\n",
      "      content=\"http://www.loc.gov/\" />\n",
      "\n",
      "<meta rel=\"canonical\"\n",
      "      href=\"http://loc.gov/\" />\n",
      "\n",
      "    \n",
      "<meta charset=\"utf-8\">\n",
      "<meta name=\"viewport\" content=\"width=device-width,initial-scale=1\"/>\n",
      "<meta http-equiv=\"X-UA-Compatible\" content=\"IE=edge\">\n",
      "<meta name=\"version\" content=\"$Revision: 81937 $\"/>\n",
      "<meta name=\"msvalidate.01\" content=\"5C89FB9D99590AB2F55BD95C3A59BD81\"/>\n",
      "<link title=\"schema(DC)\" rel=\"schema.dc\" href=\"http://purl.org/dc/elements/1.1/\"/>\n",
      "<meta name=\"dc.language\" content=\"eng\" />\n",
      "<meta name=\"dc.source\" content=\"Library o\n"
     ]
    }
   ],
   "source": [
    "# use the print function so the newlines aren't escaped\n",
    "print(response.text[0:1000])"
   ]
  },
  {
   "cell_type": "markdown",
   "metadata": {},
   "source": [
    "* From here we could use a library like [Beautiful Soup](https://www.crummy.com/software/BeautifulSoup/bs4/doc/) to parse the HTML and extract specific pieces of information"
   ]
  },
  {
   "cell_type": "code",
   "execution_count": 31,
   "metadata": {},
   "outputs": [],
   "source": [
    "from bs4 import BeautifulSoup"
   ]
  },
  {
   "cell_type": "code",
   "execution_count": 58,
   "metadata": {},
   "outputs": [],
   "source": [
    "# Grab the HTML page for the digitized books collection\n",
    "url = \"https://loc.gov/collections/selected-digitized-books\"\n",
    "response = requests.get(url)"
   ]
  },
  {
   "cell_type": "code",
   "execution_count": 59,
   "metadata": {},
   "outputs": [
    {
     "data": {
      "text/plain": [
       "['Conversations on natural philosophy, in which the elements of that science are familiarly explained, and adapted to the comprehension of young pupils.',\n",
       " \"An examination of Mr. Dufief's philosophical notions, with a criticism upon his system and mode of teaching languages, in four letters.\",\n",
       " 'Philosophical views.',\n",
       " 'Hypnotism as it is; a book for everybody.',\n",
       " 'New illustrated self-instructor in phrenology and physiology, with over one hundred engravings together with the chart and character of.',\n",
       " 'Psukikos; philosophic observations on the relations of the ganglio-nervous system to the immaterial soul of man.',\n",
       " 'The mind; an introductory lecture, delivered November 4th, 1875.',\n",
       " 'Scientific explanation of the creed crusher, or spiritual mill, for pulverizing creeds.',\n",
       " 'What is spiritualism? And shall spiritualists have a creed? In two lectures.',\n",
       " 'The trance, and correlative phenomena.',\n",
       " 'Posthumous memoirs of Helena Petrovna Blavatsky,',\n",
       " 'Improvement of the mind.',\n",
       " 'Mental gymnastics; or, Lessons on memory.',\n",
       " \"The perfectly good cynic's calendar, with astronomical attachment,\",\n",
       " 'An essay on the duties of man, addressed to workingmen, written in 1844 and 1858.',\n",
       " 'Our manners at home and abroad; a complete manual on the manners, customs, and social forms of the best American society including specimen letters, invitations, acceptances, and regrets,',\n",
       " 'David and Jonathan; or, Considerations relating to friendship, in a series of letters from a father to his son.',\n",
       " 'Charter and by-laws, with lists of officers and members.',\n",
       " 'Essay on moral and religious education in domestic life,',\n",
       " 'Democracy according to the Buddhist viewpoint.',\n",
       " 'The analogy of religion, natural and revealed to the constitution and course of nature.',\n",
       " 'Some modern substitutes for Christianity; a consideration of the claims of theosophy, Christian Science, spiritualism, socialism and agnosticism and of the reasons for declining to accept any one of these systems as ...',\n",
       " 'Christ, the pupil of Buddha; a comparative study.',\n",
       " 'Sex worship; an exposition of the Phallic origin of religion.',\n",
       " 'Address delivered at the opening of the session in the Theological Seminary of the First Associate Reformed Synod of the West, November 6th, 1850.']"
      ]
     },
     "execution_count": 59,
     "metadata": {},
     "output_type": "execute_result"
    }
   ],
   "source": [
    "# Parse the HTML string with BeautifulSoup so we can search it\n",
    "soup = BeautifulSoup(response.text)\n",
    "\n",
    "# find all the HTML elements with the titles\n",
    "span_elements = soup.findAll(\"span\", class_=\"item-description-title\")\n",
    "\n",
    "# Use a list comprehension to extract just the text from each HTML element\n",
    "titles = [item.text.strip() for item in span_elements]\n",
    "# Display the list of title strings\n",
    "titles"
   ]
  },
  {
   "cell_type": "markdown",
   "metadata": {},
   "source": [
    "* But we don't have to parse these titles from HTML\n",
    "* LC has provided a *much easier* way of programmatically accessing information"
   ]
  },
  {
   "cell_type": "code",
   "execution_count": 50,
   "metadata": {},
   "outputs": [],
   "source": [
    "# Grab the JSON for the digital book collection\n",
    "url = \"https://loc.gov/collections/selected-digitized-books/?fo=json\"\n",
    "response = requests.get(url)"
   ]
  },
  {
   "cell_type": "code",
   "execution_count": 51,
   "metadata": {},
   "outputs": [
    {
     "data": {
      "text/plain": [
       "200"
      ]
     },
     "execution_count": 51,
     "metadata": {},
     "output_type": "execute_result"
    }
   ],
   "source": [
    "response.status_code"
   ]
  },
  {
   "cell_type": "code",
   "execution_count": 52,
   "metadata": {},
   "outputs": [
    {
     "data": {
      "text/plain": [
       "'application/json'"
      ]
     },
     "execution_count": 52,
     "metadata": {},
     "output_type": "execute_result"
    }
   ],
   "source": [
    "response.headers[\"Content-Type\"]"
   ]
  },
  {
   "cell_type": "code",
   "execution_count": 54,
   "metadata": {},
   "outputs": [
    {
     "data": {
      "text/plain": [
       "'{\"digitized\": 575, \"next_sibling\": null, \"views\": {\"list\": \"https://www.loc.gov/collections/selected-digitized-books/?fo=json\", \"brief\": \"https://www.loc.gov/collections/selected-digitized-books/?fo=json&st=brief\", \"slideshow\": \"https://www.loc.gov/collections/selected-digitized-books/?fo=json&st=slideshow\", \"current\": \"list\", \"grid\": \"https://www.loc.gov/collections/selected-digitized-books/?fo=json&st=grid\", \"gallery\": \"https://www.loc.gov/collections/selected-digitized-books/?fo=json&st=gallery\"}, \"facet_views\": {\"current\": \"list\", \"calendar\": \"https://www.loc.gov/collections/selected-digitized-books/?fo=json&fs=calendar\", \"list\": \"https://www.loc.gov/collections/selected-digitized-books/?fo=json\", \"chart\": \"https://www.loc.gov/collections/selected-digitized-books/?fo=json&fs=chart\"}, \"topics\": [\"General\"], \"research-centers\": [\"general-collections\"], \"expert_resources\": [{\"url\": \"//www.loc.gov/rr/askalib/\", \"title\": \"Ask a Librarian\"}, {\"url\": \"/books/collections/\", \"title\": \"Colle'"
      ]
     },
     "execution_count": 54,
     "metadata": {},
     "output_type": "execute_result"
    }
   ],
   "source": [
    "response.text[0:1000]"
   ]
  },
  {
   "cell_type": "markdown",
   "metadata": {},
   "source": [
    "* That looks like JSON!"
   ]
  },
  {
   "cell_type": "code",
   "execution_count": 57,
   "metadata": {},
   "outputs": [
    {
     "data": {
      "text/plain": [
       "['Conversations on natural philosophy, in which the elements of that science are familiarly explained, and adapted to the comprehension of young pupils.',\n",
       " \"An examination of Mr. Dufief's philosophical notions, with a criticism upon his system and mode of teaching languages, in four letters.\",\n",
       " 'Philosophical views.',\n",
       " 'Hypnotism as it is; a book for everybody.',\n",
       " 'New illustrated self-instructor in phrenology and physiology, with over one hundred engravings together with the chart and character of.',\n",
       " 'Psukikos; philosophic observations on the relations of the ganglio-nervous system to the immaterial soul of man.',\n",
       " 'The mind; an introductory lecture, delivered November 4th, 1875.',\n",
       " 'Scientific explanation of the creed crusher, or spiritual mill, for pulverizing creeds.',\n",
       " 'What is spiritualism? And shall spiritualists have a creed? In two lectures.',\n",
       " 'The trance, and correlative phenomena.',\n",
       " 'Posthumous memoirs of Helena Petrovna Blavatsky,',\n",
       " 'Improvement of the mind.',\n",
       " 'Mental gymnastics; or, Lessons on memory.',\n",
       " \"The perfectly good cynic's calendar, with astronomical attachment,\",\n",
       " 'An essay on the duties of man, addressed to workingmen, written in 1844 and 1858.',\n",
       " 'Our manners at home and abroad; a complete manual on the manners, customs, and social forms of the best American society including specimen letters, invitations, acceptances, and regrets,',\n",
       " 'David and Jonathan; or, Considerations relating to friendship, in a series of letters from a father to his son.',\n",
       " 'Charter and by-laws, with lists of officers and members.',\n",
       " 'Essay on moral and religious education in domestic life,',\n",
       " 'Democracy according to the Buddhist viewpoint.',\n",
       " 'The analogy of religion, natural and revealed to the constitution and course of nature.',\n",
       " 'Some modern substitutes for Christianity; a consideration of the claims of theosophy, Christian Science, spiritualism, socialism and agnosticism and of the reasons for declining to accept any one of these systems as a substitute for Christianity.',\n",
       " 'Christ, the pupil of Buddha; a comparative study.',\n",
       " 'Sex worship; an exposition of the Phallic origin of religion.',\n",
       " 'Address delivered at the opening of the session in the Theological Seminary of the First Associate Reformed Synod of the West, November 6th, 1850.']"
      ]
     },
     "execution_count": 57,
     "metadata": {},
     "output_type": "execute_result"
    }
   ],
   "source": [
    "collection = response.json()\n",
    "titles = [item['title'] for item in collection['results']]\n",
    "titles"
   ]
  },
  {
   "cell_type": "code",
   "execution_count": null,
   "metadata": {},
   "outputs": [],
   "source": []
  },
  {
   "cell_type": "code",
   "execution_count": null,
   "metadata": {},
   "outputs": [],
   "source": []
  },
  {
   "cell_type": "code",
   "execution_count": null,
   "metadata": {},
   "outputs": [],
   "source": []
  },
  {
   "cell_type": "code",
   "execution_count": null,
   "metadata": {},
   "outputs": [],
   "source": []
  },
  {
   "cell_type": "code",
   "execution_count": null,
   "metadata": {},
   "outputs": [],
   "source": []
  },
  {
   "cell_type": "code",
   "execution_count": null,
   "metadata": {},
   "outputs": [],
   "source": []
  },
  {
   "cell_type": "code",
   "execution_count": null,
   "metadata": {},
   "outputs": [],
   "source": []
  },
  {
   "cell_type": "code",
   "execution_count": null,
   "metadata": {},
   "outputs": [],
   "source": []
  }
 ],
 "metadata": {
  "kernelspec": {
   "display_name": "Python 3",
   "language": "python",
   "name": "python3"
  },
  "language_info": {
   "codemirror_mode": {
    "name": "ipython",
    "version": 3
   },
   "file_extension": ".py",
   "mimetype": "text/x-python",
   "name": "python",
   "nbconvert_exporter": "python",
   "pygments_lexer": "ipython3",
   "version": "3.7.3"
  }
 },
 "nbformat": 4,
 "nbformat_minor": 2
}
